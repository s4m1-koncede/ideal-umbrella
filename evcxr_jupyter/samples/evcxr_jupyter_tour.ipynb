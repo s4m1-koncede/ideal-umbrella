{
  "cells": [
    {
      "cell_type": "markdown",
      "metadata": {
        "id": "IBlBZeg_eS03"
      },
      "source": [
        "# Google Colab Rust Setup\n",
        "\n",
        "The following cell is used to set up and spin up a Jupyter Notebook environment with a Rust kernel using Nix and IPC Proxy."
      ]
    },
    {
      "cell_type": "code",
      "execution_count": 1,
      "metadata": {
        "id": "-MS48v4qeS07",
        "outputId": "d9dcfa55-c19c-4b7a-d57a-a5e1baf6a86c",
        "colab": {
          "base_uri": "https://localhost:8080/"
        }
      },
      "outputs": [
        {
          "output_type": "stream",
          "name": "stdout",
          "text": [
            "2af6bef753d48565d11bcd478728c979-3f6df40db09f3517ade41997b541b81f0976c12e/setup_evcxr_kernel.sh\n",
            "\u001b[1minfo:\u001b[0m downloading installer\n",
            "\u001b[32m INFO\u001b[0m nix-installer v3.10.1\n",
            "\u001b[32m INFO\u001b[0m Step: Create directory `/nix`\n",
            "\u001b[32m INFO\u001b[0m Step: Provision Nix\n",
            "\u001b[32m INFO\u001b[0m Step: Create build users (UID 30001-30032) and group (GID 30000)\n",
            "\u001b[32m INFO\u001b[0m Step: Configure Nix\n",
            "\u001b[32m INFO\u001b[0m Step: Create directory `/etc/tmpfiles.d`\n",
            "\u001b[32m INFO\u001b[0m Step: Configure upstream Nix daemon service\n",
            "\u001b[32m INFO\u001b[0m Step: Remove directory `/nix/temp-install-dir`\n",
            "\u001b[33m WARN\u001b[0m SelfTest([ShellFailed { shell: Sh, command: \"\\\"sh\\\" \\\"-lc\\\" \\\"exec nix build --option substitute false --option post-build-hook \\\\'\\\\' --no-link --expr \\\\'derivation { name = \\\\\\\"self-test-sh-1756884483853\\\\\\\"; system = \\\\\\\"x86_64-linux\\\\\\\"; builder = \\\\\\\"/bin/sh\\\\\\\"; args = [\\\\\\\"-c\\\\\\\" \\\\\\\"echo hello > \\\\\\\\$out\\\\\\\"]; }\\\\'\\\"\", output: Output { status: ExitStatus(unix_wait_status(256)), stdout: \"\", stderr: \"error:\\n       … while calling the 'derivationStrict' builtin\\n         at <nix/derivation-internal.nix>:37:12:\\n           36|\\n           37|   strict = derivationStrict drvAttrs;\\n             |            ^\\n           38|\\n\\n       … while evaluating derivation 'self-test-sh-1756884483853'\\n         whose name attribute is located at «string»:1:14\\n\\n       error: cannot connect to socket at '/nix/var/nix/daemon-socket/socket': No such file or directory\\n\" } }, ShellFailed { shell: Bash, command: \"\\\"bash\\\" \\\"-lc\\\" \\\"exec nix build --option substitute false --option post-build-hook \\\\'\\\\' --no-link --expr \\\\'derivation { name = \\\\\\\"self-test-bash-1756884483920\\\\\\\"; system = \\\\\\\"x86_64-linux\\\\\\\"; builder = \\\\\\\"/bin/sh\\\\\\\"; args = [\\\\\\\"-c\\\\\\\" \\\\\\\"echo hello > \\\\\\\\$out\\\\\\\"]; }\\\\'\\\"\", output: Output { status: ExitStatus(unix_wait_status(256)), stdout: \"\", stderr: \"error:\\n       … while calling the 'derivationStrict' builtin\\n         at <nix/derivation-internal.nix>:37:12:\\n           36|\\n           37|   strict = derivationStrict drvAttrs;\\n             |            ^\\n           38|\\n\\n       … while evaluating derivation 'self-test-bash-1756884483920'\\n         whose name attribute is located at «string»:1:14\\n\\n       error: cannot connect to socket at '/nix/var/nix/daemon-socket/socket': No such file or directory\\n\" } }])\n",
            "\u001b[1m\u001b[32mNix was installed successfully!\u001b[39m\u001b[0m\n",
            "To get started using Nix, open a new shell or run `\u001b[1m. /nix/var/nix/profiles/default/etc/profile.d/nix-daemon.sh\u001b[0m`\n",
            "\n",
            "unpacking 'github:NixOS/nixpkgs/aaff8c16d7fc04991cac6245bee1baa31f72b1e1' into the Git cache...\n",
            "installing 'cargo-1.89.0'\n",
            "installing 'rustc-wrapper-1.89.0'\n",
            "installing 'evcxr-0.21.1'\n",
            "installing 'sccache-0.10.0'\n",
            "these 53 paths will be fetched (444.65 MiB download, 2650.40 MiB unpacked):\n",
            "  /nix/store/zk2vakvb6kly2vwnby0kcr3bvlm1xdpy-acl-2.3.2\n",
            "  /nix/store/72gxwkk86xcc1vs9d92c65hq253zm4aj-attr-2.5.2\n",
            "  /nix/store/4bacfs7zrg714ffffbjp57nsvcz6zfkq-bash-5.3p3\n",
            "  /nix/store/xrwdb41dqi2ia6lr2s61w5bzfg2m71pi-binutils-2.44\n",
            "  /nix/store/rn9p36mzr2wpqhix076s5fg3yjxgzr3i-binutils-2.44-lib\n",
            "  /nix/store/ky2x48xfid0nn5arablpwlnsngj70gws-binutils-wrapper-2.44\n",
            "  /nix/store/pc94vsjs6d1d5z0a0ajbcckbjaif4r70-brotli-1.1.0-lib\n",
            "  /nix/store/nhzjlz4533ancqnkb8jcn6abl1q9n7s4-cargo-1.89.0\n",
            "  /nix/store/xbp2j3z0lhizr5vvzff4dgdcxgs8i2w7-coreutils-9.7\n",
            "  /nix/store/ndk4rmzynqrms8sknjk8viibd6lldqa8-curl-8.14.1\n",
            "  /nix/store/kx8y818vmwsss4sf4749pcfayamx84cx-evcxr-0.21.1\n",
            "  /nix/store/jqgp3w5ara0s53bca028cp23l1ih1g7p-expand-response-params\n",
            "  /nix/store/qdknxw57cwy1jkrhq7fzmiis73j42jv6-gcc-14.3.0\n",
            "  /nix/store/ysdkxvcvy2sy36sqigkyqanixm76z2xh-gcc-14.3.0-lib\n",
            "  /nix/store/yn88qvq7iwz2mx4xic2dk3p59ah64bap-gcc-14.3.0-libgcc\n",
            "  /nix/store/bcw9f6r9v2fm3kv7d15fcrya0mf34xds-gcc-wrapper-14.3.0\n",
            "  /nix/store/8p33is69mjdw3bi1wmi8v2zpsxir8nwd-glibc-2.40-66\n",
            "  /nix/store/j941hd82ybw2czd7lgf3xwccmqy9281h-glibc-2.40-66-bin\n",
            "  /nix/store/9ly5qx1lbj0q1rcsf1dc0m9n3db6ii60-glibc-2.40-66-dev\n",
            "  /nix/store/y1p729hd8krfd342kwn4m0rvy2642gjp-gmp-6.3.0\n",
            "  /nix/store/7jf660z2yn9sm5kc5zfw5jyax336r05p-gmp-with-cxx-6.3.0\n",
            "  /nix/store/5ygilvgz6l47fw3x5ylb0cz1afgc3737-gnugrep-3.12\n",
            "  /nix/store/dxa20px5kblls8gnrmvv4ahpxlwrr4cp-isl-0.20\n",
            "  /nix/store/ygw90xgkwd7vimvnnh8frdfrhhpmmsbk-keyutils-1.6.3-lib\n",
            "  /nix/store/j4bxc8hhmld8j9r6qzrw1fip998fpwqw-krb5-1.21.3-lib\n",
            "  /nix/store/4dx3d18k6xhzbckajqj8l0yi63kchn1g-libffi-3.5.1\n",
            "  /nix/store/30n8yzgji9ph8i5hshla57zbvdcpl5n3-libidn2-2.3.8\n",
            "  /nix/store/z2838br9p3zil6igb33mi0bks5518idv-libmpc-1.3.1\n",
            "  /nix/store/xi2034lf3xnbww8ppjnnqp8hilbyb10m-libpsl-0.21.5\n",
            "  /nix/store/5cb01j63qam129a5sn5200x1n16020kk-libssh2-1.11.1\n",
            "  /nix/store/90z6lxmraj3i1mvnzkdjwc1gdqxisbf4-libunistring-1.3\n",
            "  /nix/store/nic5yk8f47kg55qayn9cnwxl555439vj-libxml2-2.14.5\n",
            "  /nix/store/n6x4xn9bj4syr5k9y8zalkdl2p8ykn2z-linux-headers-6.16\n",
            "  /nix/store/gz2rq9ay713xg8ww7wijnbzdni37smfp-llvm-20.1.8-lib\n",
            "  /nix/store/fqmxh1xn83dy49nma9r145miybi63501-mimalloc-3.1.5\n",
            "  /nix/store/vzqp13w1hs2c83fdma3b2m1ng1rk16d9-mold-2.40.4\n",
            "  /nix/store/a2kaxjpg6z8dw8y58k714sbyfh84ar8z-mpfr-4.2.2\n",
            "  /nix/store/rxk6k8lwllmbjm3cgj2w5hd75awq15qf-nghttp2-1.66.0-lib\n",
            "  /nix/store/xzhbzgxyzw8vpkx0pxvwsh64v4536isz-openssl-3.5.1\n",
            "  /nix/store/yach148avwpy3gp7fsv0pgvbvhb04iw7-pcre2-10.44\n",
            "  /nix/store/n42mcr2b8pxmv3kd51lky4grizaxg9h2-publicsuffix-list-0-unstable-2025-07-22\n",
            "  /nix/store/m2ybnhrcm06v1lkr0115v2giyifn3k37-rust-lib-src\n",
            "  /nix/store/6rn84nnl2qkf0ssvb3zfz6833z62cx3y-rustc-1.89.0\n",
            "  /nix/store/vixqc648lmhhacpc4426c2h4wjndzai7-rustc-1.89.0-doc\n",
            "  /nix/store/k8s1xfk1cdvn71xmfl1c0c3n49wg02zw-rustc-1.89.0-man\n",
            "  /nix/store/421772lja50b6h80r0bdjsdncwxxn7vz-rustc-wrapper-1.89.0\n",
            "  /nix/store/zrm7qvmmrx57c4xsjdqq27yh4hk0c1ds-rustc-wrapper-1.89.0-doc\n",
            "  /nix/store/al0sk9b7jd3j94xl24ryrp8jcz1lch1i-rustc-wrapper-1.89.0-man\n",
            "  /nix/store/9sgvfa62ygc590m6i5qygrv5xpy294iw-sccache-0.10.0\n",
            "  /nix/store/23hf8hlpnxyhk9fy91jllrmk7w1qllqv-tbb-2022.1.0\n",
            "  /nix/store/f6famnry0piih1d3hh6y73fxx05jxsa8-xgcc-14.3.0-libgcc\n",
            "  /nix/store/5bc6m6cx56zfrz30b8wpdarh1qarqlzx-zlib-1.3.1\n",
            "  /nix/store/8fnj0gmfmcbry0hl70i8s01fh2s972bi-zstd-1.5.7\n",
            "copying path '/nix/store/m2ybnhrcm06v1lkr0115v2giyifn3k37-rust-lib-src' from 'https://cache.nixos.org'...\n",
            "copying path '/nix/store/vixqc648lmhhacpc4426c2h4wjndzai7-rustc-1.89.0-doc' from 'https://cache.nixos.org'...\n",
            "copying path '/nix/store/k8s1xfk1cdvn71xmfl1c0c3n49wg02zw-rustc-1.89.0-man' from 'https://cache.nixos.org'...\n",
            "copying path '/nix/store/yn88qvq7iwz2mx4xic2dk3p59ah64bap-gcc-14.3.0-libgcc' from 'https://cache.nixos.org'...\n",
            "copying path '/nix/store/f6famnry0piih1d3hh6y73fxx05jxsa8-xgcc-14.3.0-libgcc' from 'https://cache.nixos.org'...\n",
            "copying path '/nix/store/n42mcr2b8pxmv3kd51lky4grizaxg9h2-publicsuffix-list-0-unstable-2025-07-22' from 'https://cache.nixos.org'...\n",
            "copying path '/nix/store/90z6lxmraj3i1mvnzkdjwc1gdqxisbf4-libunistring-1.3' from 'https://cache.nixos.org'...\n",
            "copying path '/nix/store/n6x4xn9bj4syr5k9y8zalkdl2p8ykn2z-linux-headers-6.16' from 'https://cache.nixos.org'...\n",
            "copying path '/nix/store/al0sk9b7jd3j94xl24ryrp8jcz1lch1i-rustc-wrapper-1.89.0-man' from 'https://cache.nixos.org'...\n",
            "copying path '/nix/store/30n8yzgji9ph8i5hshla57zbvdcpl5n3-libidn2-2.3.8' from 'https://cache.nixos.org'...\n",
            "copying path '/nix/store/8p33is69mjdw3bi1wmi8v2zpsxir8nwd-glibc-2.40-66' from 'https://cache.nixos.org'...\n",
            "copying path '/nix/store/jqgp3w5ara0s53bca028cp23l1ih1g7p-expand-response-params' from 'https://cache.nixos.org'...\n",
            "copying path '/nix/store/pc94vsjs6d1d5z0a0ajbcckbjaif4r70-brotli-1.1.0-lib' from 'https://cache.nixos.org'...\n",
            "copying path '/nix/store/4bacfs7zrg714ffffbjp57nsvcz6zfkq-bash-5.3p3' from 'https://cache.nixos.org'...\n",
            "copying path '/nix/store/72gxwkk86xcc1vs9d92c65hq253zm4aj-attr-2.5.2' from 'https://cache.nixos.org'...\n",
            "copying path '/nix/store/ysdkxvcvy2sy36sqigkyqanixm76z2xh-gcc-14.3.0-lib' from 'https://cache.nixos.org'...\n",
            "copying path '/nix/store/j941hd82ybw2czd7lgf3xwccmqy9281h-glibc-2.40-66-bin' from 'https://cache.nixos.org'...\n",
            "copying path '/nix/store/y1p729hd8krfd342kwn4m0rvy2642gjp-gmp-6.3.0' from 'https://cache.nixos.org'...\n",
            "copying path '/nix/store/ygw90xgkwd7vimvnnh8frdfrhhpmmsbk-keyutils-1.6.3-lib' from 'https://cache.nixos.org'...\n",
            "copying path '/nix/store/4dx3d18k6xhzbckajqj8l0yi63kchn1g-libffi-3.5.1' from 'https://cache.nixos.org'...\n",
            "copying path '/nix/store/xi2034lf3xnbww8ppjnnqp8hilbyb10m-libpsl-0.21.5' from 'https://cache.nixos.org'...\n",
            "copying path '/nix/store/nic5yk8f47kg55qayn9cnwxl555439vj-libxml2-2.14.5' from 'https://cache.nixos.org'...\n",
            "copying path '/nix/store/rxk6k8lwllmbjm3cgj2w5hd75awq15qf-nghttp2-1.66.0-lib' from 'https://cache.nixos.org'...\n",
            "copying path '/nix/store/xzhbzgxyzw8vpkx0pxvwsh64v4536isz-openssl-3.5.1' from 'https://cache.nixos.org'...\n",
            "copying path '/nix/store/yach148avwpy3gp7fsv0pgvbvhb04iw7-pcre2-10.44' from 'https://cache.nixos.org'...\n",
            "copying path '/nix/store/5bc6m6cx56zfrz30b8wpdarh1qarqlzx-zlib-1.3.1' from 'https://cache.nixos.org'...\n",
            "copying path '/nix/store/zk2vakvb6kly2vwnby0kcr3bvlm1xdpy-acl-2.3.2' from 'https://cache.nixos.org'...\n",
            "copying path '/nix/store/rn9p36mzr2wpqhix076s5fg3yjxgzr3i-binutils-2.44-lib' from 'https://cache.nixos.org'...\n",
            "copying path '/nix/store/dxa20px5kblls8gnrmvv4ahpxlwrr4cp-isl-0.20' from 'https://cache.nixos.org'...\n",
            "copying path '/nix/store/a2kaxjpg6z8dw8y58k714sbyfh84ar8z-mpfr-4.2.2' from 'https://cache.nixos.org'...\n",
            "copying path '/nix/store/5ygilvgz6l47fw3x5ylb0cz1afgc3737-gnugrep-3.12' from 'https://cache.nixos.org'...\n",
            "copying path '/nix/store/z2838br9p3zil6igb33mi0bks5518idv-libmpc-1.3.1' from 'https://cache.nixos.org'...\n",
            "copying path '/nix/store/9ly5qx1lbj0q1rcsf1dc0m9n3db6ii60-glibc-2.40-66-dev' from 'https://cache.nixos.org'...\n",
            "copying path '/nix/store/7jf660z2yn9sm5kc5zfw5jyax336r05p-gmp-with-cxx-6.3.0' from 'https://cache.nixos.org'...\n",
            "copying path '/nix/store/qdknxw57cwy1jkrhq7fzmiis73j42jv6-gcc-14.3.0' from 'https://cache.nixos.org'...\n",
            "copying path '/nix/store/gz2rq9ay713xg8ww7wijnbzdni37smfp-llvm-20.1.8-lib' from 'https://cache.nixos.org'...\n",
            "copying path '/nix/store/fqmxh1xn83dy49nma9r145miybi63501-mimalloc-3.1.5' from 'https://cache.nixos.org'...\n",
            "copying path '/nix/store/xrwdb41dqi2ia6lr2s61w5bzfg2m71pi-binutils-2.44' from 'https://cache.nixos.org'...\n",
            "copying path '/nix/store/23hf8hlpnxyhk9fy91jllrmk7w1qllqv-tbb-2022.1.0' from 'https://cache.nixos.org'...\n",
            "copying path '/nix/store/8fnj0gmfmcbry0hl70i8s01fh2s972bi-zstd-1.5.7' from 'https://cache.nixos.org'...\n",
            "copying path '/nix/store/xbp2j3z0lhizr5vvzff4dgdcxgs8i2w7-coreutils-9.7' from 'https://cache.nixos.org'...\n",
            "copying path '/nix/store/vzqp13w1hs2c83fdma3b2m1ng1rk16d9-mold-2.40.4' from 'https://cache.nixos.org'...\n",
            "copying path '/nix/store/9sgvfa62ygc590m6i5qygrv5xpy294iw-sccache-0.10.0' from 'https://cache.nixos.org'...\n",
            "copying path '/nix/store/5cb01j63qam129a5sn5200x1n16020kk-libssh2-1.11.1' from 'https://cache.nixos.org'...\n",
            "copying path '/nix/store/j4bxc8hhmld8j9r6qzrw1fip998fpwqw-krb5-1.21.3-lib' from 'https://cache.nixos.org'...\n",
            "copying path '/nix/store/ndk4rmzynqrms8sknjk8viibd6lldqa8-curl-8.14.1' from 'https://cache.nixos.org'...\n",
            "copying path '/nix/store/ky2x48xfid0nn5arablpwlnsngj70gws-binutils-wrapper-2.44' from 'https://cache.nixos.org'...\n",
            "copying path '/nix/store/bcw9f6r9v2fm3kv7d15fcrya0mf34xds-gcc-wrapper-14.3.0' from 'https://cache.nixos.org'...\n",
            "copying path '/nix/store/6rn84nnl2qkf0ssvb3zfz6833z62cx3y-rustc-1.89.0' from 'https://cache.nixos.org'...\n",
            "\u001b[35;1mwarning:\u001b[0m download buffer is full; consider increasing the 'download-buffer-size' setting\n",
            "copying path '/nix/store/zrm7qvmmrx57c4xsjdqq27yh4hk0c1ds-rustc-wrapper-1.89.0-doc' from 'https://cache.nixos.org'...\n",
            "copying path '/nix/store/421772lja50b6h80r0bdjsdncwxxn7vz-rustc-wrapper-1.89.0' from 'https://cache.nixos.org'...\n",
            "copying path '/nix/store/nhzjlz4533ancqnkb8jcn6abl1q9n7s4-cargo-1.89.0' from 'https://cache.nixos.org'...\n",
            "copying path '/nix/store/kx8y818vmwsss4sf4749pcfayamx84cx-evcxr-0.21.1' from 'https://cache.nixos.org'...\n",
            "building '/nix/store/a71v2v0fbk6yhw79ysj4hdyc27jhy6ci-user-environment.drv'...\n",
            "Writing /root/.local/share/jupyter/kernels/rust/kernel.json\n",
            "Writing /root/.local/share/jupyter/kernels/rust/logo-32x32.png\n",
            "Writing /root/.local/share/jupyter/kernels/rust/logo-64x64.png\n",
            "Writing /root/.local/share/jupyter/kernels/rust/logo-LICENSE.md\n",
            "Writing /root/.local/share/jupyter/kernels/rust/kernel.js\n",
            "Writing /root/.local/share/jupyter/kernels/rust/lint.js\n",
            "Writing /root/.local/share/jupyter/kernels/rust/lint.css\n",
            "Writing /root/.local/share/jupyter/kernels/rust/lint-LICENSE\n",
            "Writing /root/.local/share/jupyter/kernels/rust/version.txt\n",
            "Installation complete\n",
            "bc102165f43db4ebd84fcdb4c5bfb129-b087c21310402bc999b36fecaf63207c74cf5b90/install_ipc_proxy_kernel.py\n",
            "bc102165f43db4ebd84fcdb4c5bfb129-b087c21310402bc999b36fecaf63207c74cf5b90/ipc_proxy_kernel.py\n",
            "jupyter-notebook: no process found\n",
            "bash: line 1: /root/.cargo/env: No such file or directory\n"
          ]
        }
      ],
      "source": [
        "!wget -qO- https://gist.github.com/wiseaidev/2af6bef753d48565d11bcd478728c979/archive/3f6df40db09f3517ade41997b541b81f0976c12e.tar.gz | tar xvz --strip-components=1\n",
        "!bash setup_evcxr_kernel.sh"
      ]
    },
    {
      "cell_type": "markdown",
      "metadata": {
        "id": "5JUJCdWYeS08"
      },
      "source": [
        "---"
      ]
    },
    {
      "cell_type": "markdown",
      "metadata": {
        "id": "zLBrcffveS08"
      },
      "source": [
        "# Tour of the EvCxR Jupyter Kernel\n",
        "For those not already familiar with Jupyter notebook, it lets you write code into \"cells\" like the box below. Cells can alternatively contain markdown, like this text here. Each code cell is compiled and executed separately, but variables, defined functions etc persist between cells.\n",
        "\n",
        "## Printing to outputs and evaluating expressions\n",
        "Lets print something to stdout and stderr then return a final expression to see how that's presented. Note that stdout and stderr are separate streams, so may not appear in the same order is their respective print statements."
      ]
    },
    {
      "cell_type": "code",
      "execution_count": null,
      "metadata": {
        "id": "BcEqYQzNeS09",
        "outputId": "f4c2b18b-026d-4fac-f0b7-69c20a5743ad"
      },
      "outputs": [
        {
          "name": "stderr",
          "output_type": "stream",
          "text": [
            "Hello error\n"
          ]
        },
        {
          "name": "stdout",
          "output_type": "stream",
          "text": [
            "Hello world\n"
          ]
        },
        {
          "data": {
            "text/plain": [
              "\"Hello world\""
            ]
          },
          "execution_count": 2,
          "metadata": {},
          "output_type": "execute_result"
        }
      ],
      "source": [
        "println!(\"Hello world\");\n",
        "eprintln!(\"Hello error\");\n",
        "format!(\"Hello {}\", \"world\")"
      ]
    },
    {
      "cell_type": "markdown",
      "metadata": {
        "id": "F9ZowTEmeS09"
      },
      "source": [
        "## Assigning and making use of variables\n",
        "We define a variable `message`, then in the subsequent cell, modify the string and finally print it out. We could also do all this in the one cell if we wanted."
      ]
    },
    {
      "cell_type": "code",
      "execution_count": null,
      "metadata": {
        "id": "LDFhoindeS0-"
      },
      "outputs": [],
      "source": [
        "let mut message = \"Hello \".to_owned();"
      ]
    },
    {
      "cell_type": "code",
      "execution_count": null,
      "metadata": {
        "id": "mk1SzmJgeS0-"
      },
      "outputs": [],
      "source": [
        "message.push_str(\"world!\");"
      ]
    },
    {
      "cell_type": "code",
      "execution_count": null,
      "metadata": {
        "id": "gGfhK0rIeS0-",
        "outputId": "3ff72b1e-87cb-4b50-ac0b-78336dc8e5e0"
      },
      "outputs": [
        {
          "data": {
            "text/plain": [
              "\"Hello world!\""
            ]
          },
          "execution_count": 5,
          "metadata": {},
          "output_type": "execute_result"
        }
      ],
      "source": [
        "message"
      ]
    },
    {
      "cell_type": "markdown",
      "metadata": {
        "id": "0s-OKsx0eS0_"
      },
      "source": [
        "## Defining and redefining functions\n",
        "Next we'll define a function"
      ]
    },
    {
      "cell_type": "code",
      "execution_count": null,
      "metadata": {
        "id": "2ugzTvz2eS0_"
      },
      "outputs": [],
      "source": [
        "pub fn fib(x: i32) -> i32 {\n",
        "    if x <= 2 {0} else {fib(x - 2) + fib(x - 1)}\n",
        "}"
      ]
    },
    {
      "cell_type": "code",
      "execution_count": null,
      "metadata": {
        "id": "klIvpFnkeS0_",
        "outputId": "82b4c0c6-6128-4902-9774-6f54929c5d89"
      },
      "outputs": [
        {
          "data": {
            "text/plain": [
              "[0, 0, 0, 0, 0, 0, 0, 0, 0, 0, 0, 0]"
            ]
          },
          "execution_count": 7,
          "metadata": {},
          "output_type": "execute_result"
        }
      ],
      "source": [
        "(1..13).map(fib).collect::<Vec<i32>>()"
      ]
    },
    {
      "cell_type": "markdown",
      "metadata": {
        "id": "e-Nu2jCaeS0_"
      },
      "source": [
        "Hmm, that doesn't look right. Lets redefine the function. In practice, we'd go back and edit the function above and reevalute it, but here, lets redefine it in a separate cell."
      ]
    },
    {
      "cell_type": "code",
      "execution_count": null,
      "metadata": {
        "id": "s0sKbpoLeS0_"
      },
      "outputs": [],
      "source": [
        "pub fn fib(x: i32) -> i32 {\n",
        "    if x <= 2 {1} else {fib(x - 2) + fib(x - 1)}\n",
        "}"
      ]
    },
    {
      "cell_type": "code",
      "execution_count": null,
      "metadata": {
        "id": "PpMWFedQeS0_",
        "outputId": "9793e52e-2de6-43bc-89e0-bcf5b2f5bf25"
      },
      "outputs": [
        {
          "data": {
            "text/plain": [
              "[1, 1, 2, 3, 5, 8, 13, 21, 34, 55, 89, 144]"
            ]
          },
          "execution_count": 9,
          "metadata": {},
          "output_type": "execute_result"
        }
      ],
      "source": [
        "let values = (1..13).map(fib).collect::<Vec<i32>>();\n",
        "values"
      ]
    },
    {
      "cell_type": "markdown",
      "metadata": {
        "id": "eQAZu1AXeS1A"
      },
      "source": [
        "## Spawning a separate thread and communicating with it\n",
        "We can spawn a thread to do stuff in the background, then continue executing code in other cells."
      ]
    },
    {
      "cell_type": "code",
      "execution_count": null,
      "metadata": {
        "id": "BPF4P3HxeS1A"
      },
      "outputs": [],
      "source": [
        "use std::sync::{Mutex, Arc};\n",
        "let counter = Arc::new(Mutex::new(0i32));\n",
        "std::thread::spawn({\n",
        "    let counter = Arc::clone(&counter);\n",
        "    move || {\n",
        "        for i in 1..300 {\n",
        "            *counter.lock().unwrap() += 1;\n",
        "            std::thread::sleep(std::time::Duration::from_millis(100));\n",
        "        }\n",
        "}});"
      ]
    },
    {
      "cell_type": "code",
      "execution_count": null,
      "metadata": {
        "id": "ZSqwyOHKeS1A",
        "outputId": "098482eb-a420-4ff7-e77d-7213b34fd4d8"
      },
      "outputs": [
        {
          "data": {
            "text/plain": [
              "65"
            ]
          },
          "execution_count": 3,
          "metadata": {},
          "output_type": "execute_result"
        }
      ],
      "source": [
        "*counter.lock()?"
      ]
    },
    {
      "cell_type": "code",
      "execution_count": null,
      "metadata": {
        "id": "oUXlCQj1eS1A",
        "outputId": "bf621f95-098e-49e3-c1ff-ff19cdfbb3d0"
      },
      "outputs": [
        {
          "data": {
            "text/plain": [
              "120"
            ]
          },
          "execution_count": 4,
          "metadata": {},
          "output_type": "execute_result"
        }
      ],
      "source": [
        "*counter.lock()?"
      ]
    },
    {
      "cell_type": "markdown",
      "metadata": {
        "id": "VPPyxBS_eS1A"
      },
      "source": [
        "## Loading external crates\n",
        "We can load external crates. This one takes a while to compile, but once it's compiled, subsequent cells shouldn't need to recompile it, so it should be much quicker."
      ]
    },
    {
      "cell_type": "code",
      "execution_count": null,
      "metadata": {
        "id": "hy-0EE8beS1A",
        "outputId": "3ad854a4-9cf8-4049-998c-2525fd1ce3f4"
      },
      "outputs": [
        {
          "data": {
            "text/plain": [
              "\"AQIDBA==\""
            ]
          },
          "execution_count": 14,
          "metadata": {},
          "output_type": "execute_result"
        }
      ],
      "source": [
        ":dep base64 = \"0.10.1\"\n",
        "base64::encode(&vec![1, 2, 3, 4])"
      ]
    },
    {
      "cell_type": "markdown",
      "metadata": {
        "id": "FirDi_k9eS1A"
      },
      "source": [
        "## Customizing how types are displayed\n",
        "We can also customize how our types are displayed, including presenting them as HTML. Here's an example where we define a custom display function for a type `Matrix`."
      ]
    },
    {
      "cell_type": "code",
      "execution_count": null,
      "metadata": {
        "id": "KAv8IlgQeS1B"
      },
      "outputs": [],
      "source": [
        "use std::fmt::Debug;\n",
        "pub struct Matrix<T> {pub values: Vec<T>, pub row_size: usize}\n",
        "impl<T: Debug> Matrix<T> {\n",
        "    pub fn evcxr_display(&self) {\n",
        "        let mut html = String::new();\n",
        "        html.push_str(\"<table>\");\n",
        "        for r in 0..(self.values.len() / self.row_size) {\n",
        "            html.push_str(\"<tr>\");\n",
        "            for c in 0..self.row_size {\n",
        "                html.push_str(\"<td>\");\n",
        "                html.push_str(&format!(\"{:?}\", self.values[r * self.row_size + c]));\n",
        "                html.push_str(\"</td>\");\n",
        "            }\n",
        "            html.push_str(\"</tr>\");\n",
        "        }\n",
        "        html.push_str(\"</table>\");\n",
        "        println!(\"EVCXR_BEGIN_CONTENT text/html\\n{}\\nEVCXR_END_CONTENT\", html);\n",
        "    }\n",
        "}"
      ]
    },
    {
      "cell_type": "code",
      "execution_count": null,
      "metadata": {
        "id": "utcfn8ojeS1B",
        "outputId": "7f5a4a02-0523-42c7-8b52-fdc2431e1b22"
      },
      "outputs": [
        {
          "data": {
            "text/html": [
              "<table><tr><td>1</td><td>2</td><td>3</td></tr><tr><td>4</td><td>5</td><td>6</td></tr><tr><td>7</td><td>8</td><td>9</td></tr></table>"
            ]
          },
          "execution_count": 3,
          "metadata": {},
          "output_type": "execute_result"
        }
      ],
      "source": [
        "let m = Matrix {values: vec![1,2,3,4,5,6,7,8,9], row_size: 3};\n",
        "m"
      ]
    },
    {
      "cell_type": "markdown",
      "metadata": {
        "id": "ig2sGs_beS1B"
      },
      "source": [
        "We can also return images using add-on crates like `evcxr_image`, which adds support for displaying RGB and grayscale images in Evcxr. Note, the version of the `image` crate used must match the version used by `evcxr_image`, otherwise the types will effectively be different and the image won't get displayed."
      ]
    },
    {
      "cell_type": "code",
      "execution_count": null,
      "metadata": {
        "id": "ELBqy1wReS1B",
        "outputId": "eec10f4b-c802-4d96-8a2b-74c4a5a9d990"
      },
      "outputs": [
        {
          "data": {
            "image/png": "[encoded data removed]"
          },
          "execution_count": 2,
          "metadata": {},
          "output_type": "execute_result"
        }
      ],
      "source": [
        ":dep image = \"0.23\"\n",
        ":dep evcxr_image = \"1.1\"\n",
        "use evcxr_image::ImageDisplay;\n",
        "\n",
        "image::ImageBuffer::from_fn(256, 256, |x, y| {\n",
        "    if (x as i32 - y as i32).abs() < 3 {\n",
        "        image::Rgb([0, 0, 255])\n",
        "    } else {\n",
        "        image::Rgb([0, 0, 0])\n",
        "    }\n",
        "})"
      ]
    },
    {
      "cell_type": "markdown",
      "metadata": {
        "id": "XbuMjqZleS1B"
      },
      "source": [
        "## Display of compilation errors\n",
        "Here's how compilation errors are presented. Here we forgot an & and passed a String instead of an &str."
      ]
    },
    {
      "cell_type": "code",
      "execution_count": null,
      "metadata": {
        "id": "BVdWillAeS1B",
        "outputId": "75f966ff-f292-428b-866d-537a34da00b4"
      },
      "outputs": [
        {
          "ename": "Error",
          "evalue": "mismatched types",
          "output_type": "error",
          "traceback": [
            "s.push_str(format!(\"foo {}\", 42));",
            "\u001b[91m           ^^^^^^^^^^^^^^^^^^^^^\u001b[0m \u001b[94mexpected &str, found struct `std::string::String`\u001b[0m",
            "mismatched types"
          ]
        }
      ],
      "source": [
        "let mut s = String::new();\n",
        "s.push_str(format!(\"foo {}\", 42));"
      ]
    },
    {
      "cell_type": "markdown",
      "metadata": {
        "id": "47h-TI7WeS1B"
      },
      "source": [
        "## Async await\n",
        "Async functions can be called and the results awaited. Currently this uses Tokio as the executor. The first run of code that uses await will likely be slow while Tokio is compiled. We explicitly add tokio as a dependency so that we can turn on the \"full\" feature. This is needed for TcpStream. This example also demostrates use of the question mark operator, which upon finding that the result contained an error, prints it to stderr."
      ]
    },
    {
      "cell_type": "code",
      "execution_count": null,
      "metadata": {
        "id": "N1RESd_5eS1B"
      },
      "outputs": [],
      "source": [
        ":dep tokio = {version = \"0.2\", features = [\"full\"]}"
      ]
    },
    {
      "cell_type": "code",
      "execution_count": null,
      "metadata": {
        "id": "g7ebs1lVeS1C",
        "outputId": "31df7661-83b0-4906-977f-cf4b6ac05a1e"
      },
      "outputs": [
        {
          "name": "stderr",
          "output_type": "stream",
          "text": [
            "invalid port value\n"
          ]
        }
      ],
      "source": [
        "let mut stream : tokio::net::TcpStream = tokio::net::TcpStream::connect(\"127.0.0.1:99999\").await?;"
      ]
    },
    {
      "cell_type": "markdown",
      "metadata": {
        "id": "ycbh1_KoeS1C"
      },
      "source": [
        "Note, we needed to give an explicit type to the stream variable, because rustc, at least at the time of writing suggests `tokio::net::tcp::TcpStream`, which is private. We need to explicitly provide the public alias in such cases.\n",
        "\n",
        "Now let's try again with a valid port number. First, make something listen on port 6543. You might be able to use netcat, e.g. `nc -t -l 6543`."
      ]
    },
    {
      "cell_type": "code",
      "execution_count": null,
      "metadata": {
        "id": "BlTyF-imeS1C"
      },
      "outputs": [],
      "source": [
        "let mut stream : tokio::net::TcpStream = tokio::net::TcpStream::connect(\"127.0.0.1:6543\").await?;"
      ]
    },
    {
      "cell_type": "code",
      "execution_count": null,
      "metadata": {
        "id": "wMeI10_7eS1C"
      },
      "outputs": [],
      "source": [
        "use tokio::io::AsyncWriteExt;\n",
        "stream.write(b\"Hello, world!\\n\").await?;"
      ]
    },
    {
      "cell_type": "markdown",
      "metadata": {
        "id": "CElK0enreS1C"
      },
      "source": [
        "At this point, netcat, or whatever was listening on port 6543 should have received (and printed) \"Hello, world!\"."
      ]
    },
    {
      "cell_type": "markdown",
      "metadata": {
        "id": "2LS1oNyEeS1C"
      },
      "source": [
        "## Seeing what variables have been defined\n",
        "We can print a table of defined variables and their types with the :vars command."
      ]
    },
    {
      "cell_type": "code",
      "execution_count": null,
      "metadata": {
        "id": "O3YkrUuDeS1D",
        "outputId": "ab126051-0d12-45a6-d7bf-1cb85aa184d5"
      },
      "outputs": [
        {
          "data": {
            "text/html": [
              "<table><tr><th>Variable</th><th>Type</th></tr><tr><td>counter</td><td>std::sync::Arc&lt;std::sync::Mutex&lt;i32&gt;&gt;</td><tr><tr><td>message</td><td>String</td><tr><tr><td>m</td><td>user_code_13::Matrix&lt;i32&gt;</td><tr><tr><td>values</td><td>std::vec::Vec&lt;i32&gt;</td><tr></table>"
            ],
            "text/plain": [
              "counter: std::sync::Arc<std::sync::Mutex<i32>>\n",
              "message: String\n",
              "m: user_code_13::Matrix<i32>\n",
              "values: std::vec::Vec<i32>\n"
            ]
          },
          "execution_count": 19,
          "metadata": {},
          "output_type": "execute_result"
        }
      ],
      "source": [
        ":vars"
      ]
    },
    {
      "cell_type": "markdown",
      "metadata": {
        "id": "VRTPRCF6eS1D"
      },
      "source": [
        "Other built-in commands can be found via :help"
      ]
    },
    {
      "cell_type": "code",
      "execution_count": null,
      "metadata": {
        "id": "DrmIO6CeeS1D",
        "outputId": "175a02d2-4e07-44af-caa0-c08179391265"
      },
      "outputs": [
        {
          "data": {
            "text/plain": [
              ":vars             List bound variables and their types\n",
              ":opt [level]      Toggle/set optimization level\n",
              ":fmt [format]     Set output formatter (default: {:?}). \n",
              ":explain          Print explanation of last error\n",
              ":clear            Clear all state, keeping compilation cache\n",
              ":dep              Add dependency. e.g. :dep regex = \"1.0\"\n",
              ":sccache [0|1]    Set whether to use sccache.\n",
              ":linker [linker]  Set/print linker. Supported: system, lld\n",
              ":version          Print Evcxr version\n",
              ":preserve_vars_on_panic [0|1]  Try to keep vars on panic\n",
              "\n",
              "Mostly for development / debugging purposes:\n",
              ":last_compile_dir Print the directory in which we last compiled\n",
              ":timing           Toggle printing of how long evaluations take\n",
              ":last_error_json  Print the last compilation error as JSON (for debugging)\n",
              ":time_passes      Toggle printing of rustc pass times (requires nightly)\n",
              ":internal_debug   Toggle various internal debugging code\n"
            ]
          },
          "execution_count": 6,
          "metadata": {},
          "output_type": "execute_result"
        }
      ],
      "source": [
        ":help"
      ]
    },
    {
      "cell_type": "code",
      "execution_count": null,
      "metadata": {
        "id": "x8e70legeS1H"
      },
      "outputs": [],
      "source": []
    }
  ],
  "metadata": {
    "kernelspec": {
      "display_name": "Rust",
      "language": "rust",
      "name": "rust"
    },
    "language_info": {
      "codemirror_mode": "rust",
      "file_extension": ".rs",
      "mimetype": "text/rust",
      "name": "Rust",
      "pygment_lexer": "rust",
      "version": ""
    },
    "colab": {
      "provenance": []
    }
  },
  "nbformat": 4,
  "nbformat_minor": 0
}